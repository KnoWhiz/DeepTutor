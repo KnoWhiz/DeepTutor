{
 "cells": [
  {
   "cell_type": "markdown",
   "metadata": {},
   "source": [
    "# Neo4j GraphRAG test"
   ]
  },
  {
   "cell_type": "code",
   "execution_count": 19,
   "metadata": {},
   "outputs": [],
   "source": [
    "from dotenv import load_dotenv\n",
    "import os\n",
    "\n",
    "# load neo4j credentials (and openai api key in background).\n",
    "load_dotenv('.env', override=True)\n",
    "NEO4J_URI = os.getenv('NEO4J_URI')\n",
    "NEO4J_USERNAME = os.getenv('NEO4J_USERNAME')\n",
    "NEO4J_PASSWORD = os.getenv('NEO4J_PASSWORD')\n",
    "\n",
    "#uncomment this line if you aren't using a .env file\n",
    "# os.environ['OPENAI_API_KEY'] = 'copy_paste_the_openai_key_here'"
   ]
  },
  {
   "cell_type": "code",
   "execution_count": 25,
   "metadata": {},
   "outputs": [],
   "source": [
    "import neo4j\n",
    "from neo4j_graphrag.llm import OpenAILLM\n",
    "from neo4j_graphrag.embeddings.openai import OpenAIEmbeddings\n",
    "from dotenv import load_dotenv\n",
    "import os\n",
    "\n",
    "# Load environment variables from .env file\n",
    "load_dotenv('.env')\n",
    "\n",
    "# Set the OpenAI API key\n",
    "os.environ[\"OPENAI_API_KEY\"] = os.getenv(\"OPENAI_API_KEY\")\n",
    "\n",
    "driver = neo4j.GraphDatabase.driver(NEO4J_URI, auth=(NEO4J_USERNAME, NEO4J_PASSWORD))\n",
    "\n",
    "ex_llm=OpenAILLM(\n",
    "    model_name=\"gpt-4o-mini\",\n",
    "    model_params={\n",
    "        \"response_format\": {\"type\": \"json_object\"}, # use json_object formatting for best results\n",
    "        \"temperature\": 0 # turning temperature down for more deterministic results\n",
    "    }\n",
    ")\n",
    "\n",
    "#create text embedder\n",
    "embedder = OpenAIEmbeddings()"
   ]
  },
  {
   "cell_type": "code",
   "execution_count": 26,
   "metadata": {},
   "outputs": [],
   "source": [
    "#define node labels\n",
    "basic_node_labels = [\"Object\", \"Entity\", \"Group\", \"Person\", \"Organization\", \"Place\"]\n",
    "\n",
    "academic_node_labels = [\"ArticleOrPaper\", \"PublicationOrJournal\"]\n",
    "\n",
    "medical_node_labels = [\"Anatomy\", \"BiologicalProcess\", \"Cell\", \"CellularComponent\", \n",
    "                       \"CellType\", \"Condition\", \"Disease\", \"Drug\",\n",
    "                       \"EffectOrPhenotype\", \"Exposure\", \"GeneOrProtein\", \"Molecule\",\n",
    "                       \"MolecularFunction\", \"Pathway\"]\n",
    "\n",
    "node_labels = basic_node_labels + academic_node_labels + medical_node_labels\n",
    "\n",
    "# define relationship types\n",
    "rel_types = [\"ACTIVATES\", \"AFFECTS\", \"ASSESSES\", \"ASSOCIATED_WITH\", \"AUTHORED\",\n",
    "    \"BIOMARKER_FOR\", \"CAUSES\", \"CITES\", \"CONTRIBUTES_TO\", \"DESCRIBES\", \"EXPRESSES\",\n",
    "    \"HAS_REACTION\", \"HAS_SYMPTOM\", \"INCLUDES\", \"INTERACTS_WITH\", \"PRESCRIBED\",\n",
    "    \"PRODUCES\", \"RECEIVED\", \"RESULTS_IN\", \"TREATS\", \"USED_FOR\"]"
   ]
  },
  {
   "cell_type": "code",
   "execution_count": 22,
   "metadata": {},
   "outputs": [],
   "source": [
    "prompt_template = '''\n",
    "You are a medical researcher tasks with extracting information from papers \n",
    "and structuring it in a property graph to inform further medical and research Q&A.\n",
    "\n",
    "Extract the entities (nodes) and specify their type from the following Input text.\n",
    "Also extract the relationships between these nodes. the relationship direction goes from the start node to the end node. \n",
    "\n",
    "\n",
    "Return result as JSON using the following format:\n",
    "{{\"nodes\": [ {{\"id\": \"0\", \"label\": \"the type of entity\", \"properties\": {{\"name\": \"name of entity\" }} }}],\n",
    "  \"relationships\": [{{\"type\": \"TYPE_OF_RELATIONSHIP\", \"start_node_id\": \"0\", \"end_node_id\": \"1\", \"properties\": {{\"details\": \"Description of the relationship\"}} }}] }}\n",
    "\n",
    "- Use only the information from the Input text.  Do not add any additional information.  \n",
    "- If the input text is empty, return empty Json. \n",
    "- Make sure to create as many nodes and relationships as needed to offer rich medical context for further research.\n",
    "- An AI knowledge assistant must be able to read this graph and immediately understand the context to inform detailed research questions. \n",
    "- Multiple documents will be ingested from different sources and we are using this property graph to connect information, so make sure entity types are fairly general. \n",
    "\n",
    "Use only fhe following nodes and relationships (if provided):\n",
    "{schema}\n",
    "\n",
    "Assign a unique ID (string) to each node, and reuse it to define relationships.\n",
    "Do respect the source and target node types for relationship and\n",
    "the relationship direction.\n",
    "\n",
    "Do not return any additional information other than the JSON in it.\n",
    "\n",
    "Examples:\n",
    "{examples}\n",
    "\n",
    "Input text:\n",
    "\n",
    "{text}\n",
    "'''"
   ]
  },
  {
   "cell_type": "code",
   "execution_count": 24,
   "metadata": {},
   "outputs": [],
   "source": [
    "from neo4j_graphrag.experimental.components.text_splitters.fixed_size_splitter import FixedSizeSplitter\n",
    "from neo4j_graphrag.experimental.pipeline.kg_builder import SimpleKGPipeline\n",
    "\n",
    "kg_builder_pdf = SimpleKGPipeline(\n",
    "    llm=ex_llm,\n",
    "    driver=driver,\n",
    "    text_splitter=FixedSizeSplitter(chunk_size=500, chunk_overlap=100),\n",
    "    embedder=embedder,\n",
    "    entities=node_labels,\n",
    "    relations=rel_types,\n",
    "    prompt_template=prompt_template,\n",
    "    from_pdf=True\n",
    ")"
   ]
  },
  {
   "cell_type": "code",
   "execution_count": null,
   "metadata": {},
   "outputs": [
    {
     "name": "stdout",
     "output_type": "stream",
     "text": [
      "Processing : /Users/bingranyou/Documents/GitHub_Mac_mini/KnoWhizTutor/test_inputs/test_1.pdf\n",
      "Result: run_id='e3c69b8d-0315-4b93-ba6f-a0ee00874338' result={'resolver': {'number_of_nodes_to_resolve': 135, 'number_of_created_nodes': 123}}\n",
      "Processing : /Users/bingranyou/Documents/GitHub_Mac_mini/KnoWhizTutor/test_inputs/test.pdf\n",
      "Result: run_id='bc8594ed-dd22-4bca-8b3c-d7e96a89526a' result={'resolver': {'number_of_nodes_to_resolve': 484, 'number_of_created_nodes': 426}}\n"
     ]
    }
   ],
   "source": [
    "pdf_file_paths = ['/Users/bingranyou/Documents/GitHub_Mac_mini/KnoWhizTutor/input_files/test_1.pdf', \n",
    "             '/Users/bingranyou/Documents/GitHub_Mac_mini/KnoWhizTutor/input_files/test.pdf']\n",
    "\n",
    "for path in pdf_file_paths:\n",
    "    print(f\"Processing : {path}\")\n",
    "    pdf_result = await kg_builder_pdf.run_async(file_path=path)\n",
    "    print(f\"Result: {pdf_result}\")"
   ]
  },
  {
   "cell_type": "markdown",
   "metadata": {},
   "source": [
    "## Knowledge Graph Retrieval\n",
    "We will leverage Neo4j's vector search capabilities here. To do this, we need to begin by creating a vector index on the text chunks from the PDFs, which are stored on Chunk nodes in our knowledge graph."
   ]
  },
  {
   "cell_type": "code",
   "execution_count": 27,
   "metadata": {},
   "outputs": [],
   "source": [
    "from neo4j_graphrag.indexes import create_vector_index\n",
    "\n",
    "create_vector_index(driver, name=\"text_embeddings\", label=\"Chunk\",\n",
    "                    embedding_property=\"embedding\", dimensions=1536, similarity_fn=\"cosine\")"
   ]
  },
  {
   "cell_type": "code",
   "execution_count": 28,
   "metadata": {},
   "outputs": [],
   "source": [
    "from neo4j_graphrag.retrievers import VectorRetriever\n",
    "\n",
    "vector_retriever = VectorRetriever(\n",
    "    driver,\n",
    "    index_name=\"text_embeddings\",\n",
    "    embedder=embedder,\n",
    "    return_properties=[\"text\"],\n",
    ")"
   ]
  },
  {
   "cell_type": "code",
   "execution_count": 29,
   "metadata": {},
   "outputs": [
    {
     "name": "stdout",
     "output_type": "stream",
     "text": [
      "====\n",
      "{\n",
      "    \"node\": {\n",
      "        \"text\": \").\\n[6] J. P. Covey, H. Weinfurter, and H. Bernien, Quantum\\nnetworks with neutral atom processing nodes, npj Quan-\\ntum Information 9, 90 (2023).\\n[7] P. Komar, E. M. Kessler, M. Bishof, L. Jiang, A. S.\\nS\\u00f8rensen, J. Ye, and M. D. Lukin, A quantum network\\nof clocks, Nature Physics 10, 582 (2014).\\n[8] B.Nichol, R.Srinivas, D.Nadlinger, P.Drmota, D.Main,\\nG. Araneda, C. Ballance, and D. Lucas, An elementary\\nquantum network of entangled optical atomic clocks, Na-\\nture609, 689 (2022).\\n[9] X. Guo, C. R. B\"\n",
      "    },\n",
      "    \"nodeLabels\": [\n",
      "        \"__KGBuilder__\",\n",
      "        \"Chunk\"\n",
      "    ],\n",
      "    \"elementId\": \"4:39b1bc3a-95cb-4e15-9a04-c279d2af3dad:302\",\n",
      "    \"id\": \"4:39b1bc3a-95cb-4e15-9a04-c279d2af3dad:302\",\n",
      "    \"score\": 0.9178924560546875\n",
      "}\n",
      "====\n",
      "{\n",
      "    \"node\": {\n",
      "        \"text\": \"J. P. Covey,\\nMultiplexed telecommunication-band quantum network-\\ning with atom arrays in optical cavities, Physical Review\\nResearch 3, 043154 (2021).\\n[28] Y. Li and J. Thompson, High-rate and high-fidelity mod-\\nular interconnects between neutral atom quantum pro-\\ncessors, arXiv preprint arXiv:2401.04075 (2024).\\n[29] P. Dhara, N. M. Linke, E. Waks, S. Guha, and K. P.\\nSeshadreesan, Multiplexed quantum repeaters based on\\ndual-species trapped-ion systems, Physical Review A\\n105, 022623 (2022).\\n[30] J\"\n",
      "    },\n",
      "    \"nodeLabels\": [\n",
      "        \"__KGBuilder__\",\n",
      "        \"Chunk\"\n",
      "    ],\n",
      "    \"elementId\": \"4:39b1bc3a-95cb-4e15-9a04-c279d2af3dad:313\",\n",
      "    \"id\": \"4:39b1bc3a-95cb-4e15-9a04-c279d2af3dad:313\",\n",
      "    \"score\": 0.91351318359375\n",
      "}\n",
      "====\n",
      "{\n",
      "    \"node\": {\n",
      "        \"text\": \"ary\\nquantum network of entangled optical atomic clocks, Na-\\nture609, 689 (2022).\\n[9] X. Guo, C. R. Breum, J. Borregaard, S. Izumi, M. V.\\nLarsen, T. Gehring, M. Christandl, J. S. Neergaard-\\nNielsen, and U. L. Andersen, Distributed quantum sens-\\ning in a continuous-variable entangled network, Nature\\nPhysics 16, 281 (2020).\\n[10] D. L. Moehring, P. Maunz, S. Olmschenk, K. C. Younge,\\nD. N. Matsukevich, L.-M. Duan, and C. Monroe, En-\\ntanglement of single-atom quantum bits at a distance,\\nNature 449, 68\"\n",
      "    },\n",
      "    \"nodeLabels\": [\n",
      "        \"__KGBuilder__\",\n",
      "        \"Chunk\"\n",
      "    ],\n",
      "    \"elementId\": \"4:39b1bc3a-95cb-4e15-9a04-c279d2af3dad:303\",\n",
      "    \"id\": \"4:39b1bc3a-95cb-4e15-9a04-c279d2af3dad:303\",\n",
      "    \"score\": 0.911895751953125\n",
      "}\n",
      "====\n",
      "{\n",
      "    \"node\": {\n",
      "        \"text\": \"well as quantum enhanced metrology and\\nsensing [7\\u20139]. Light-matter quantum interfaces are a fun-\\ndamental building block for such applications, and allow\\nfor distributed entanglement between stationary matter\\nqubits by using \\\"flying\\\" photons.\\nFor practical purposes, these quantum interfaces need\\nto be capable of establishing remote entanglement at\\nhigh rates across a large-scale network of quantum nodes.\\nHowever, in widely adopted probabilistic schemes based\\non heralded photon detection [10\\u201312],\"\n",
      "    },\n",
      "    \"nodeLabels\": [\n",
      "        \"__KGBuilder__\",\n",
      "        \"Chunk\"\n",
      "    ],\n",
      "    \"elementId\": \"4:39b1bc3a-95cb-4e15-9a04-c279d2af3dad:189\",\n",
      "    \"id\": \"4:39b1bc3a-95cb-4e15-9a04-c279d2af3dad:189\",\n",
      "    \"score\": 0.9086456298828125\n",
      "}\n",
      "====\n",
      "{\n",
      "    \"node\": {\n",
      "        \"text\": \"ce, Office of Basic\\nEnergy Sciences under Awards No. DE-SC0023277. This\\nwork is supported by the Office of Science (S.C.) in Ad-\\nvanced Scientific Computing Research (ASCR) through\\nFOA - Quantum Internet to Accelerate Scientific Discov-\\nery (LAB 21-2495) and by NSF Grant No. 2016245.\\n\\u2217qiming.wu@berkeley.edu\\n\\u2020hhaeffner@berkeley.edu\\n[1] H. J. Kimble, The quantum internet, Nature 453, 1023\\n(2008).\\n[2] L.-M.Duan, M.D.Lukin, J.I.Cirac,andP.Zoller,Long-\\ndistance quantum communication with atomic ensem\"\n",
      "    },\n",
      "    \"nodeLabels\": [\n",
      "        \"__KGBuilder__\",\n",
      "        \"Chunk\"\n",
      "    ],\n",
      "    \"elementId\": \"4:39b1bc3a-95cb-4e15-9a04-c279d2af3dad:299\",\n",
      "    \"id\": \"4:39b1bc3a-95cb-4e15-9a04-c279d2af3dad:299\",\n",
      "    \"score\": 0.907318115234375\n",
      "}\n"
     ]
    }
   ],
   "source": [
    "import json\n",
    "\n",
    "vector_res = vector_retriever.get_search_results(query_text = \"What is quantum network?\", \n",
    "                                                 top_k=5)\n",
    "for i in vector_res.records: print(\"====\\n\" + json.dumps(i.data(), indent=4))"
   ]
  },
  {
   "cell_type": "code",
   "execution_count": 30,
   "metadata": {},
   "outputs": [],
   "source": [
    "from neo4j_graphrag.retrievers import VectorCypherRetriever\n",
    "\n",
    "vc_retriever = VectorCypherRetriever(\n",
    "    driver,\n",
    "    index_name=\"text_embeddings\",\n",
    "    embedder=embedder,\n",
    "    retrieval_query=\"\"\"\n",
    "//1) Go out 2-3 hops in the entity graph and get relationships\n",
    "WITH node AS chunk\n",
    "MATCH (chunk)<-[:FROM_CHUNK]-()-[relList:!FROM_CHUNK]-{1,2}()\n",
    "UNWIND relList AS rel\n",
    "\n",
    "//2) collect relationships and text chunks\n",
    "WITH collect(DISTINCT chunk) AS chunks, \n",
    "  collect(DISTINCT rel) AS rels\n",
    "\n",
    "//3) format and return context\n",
    "RETURN '=== text ===\\n' + apoc.text.join([c in chunks | c.text], '\\n---\\n') + '\\n\\n=== kg_rels ===\\n' +\n",
    "  apoc.text.join([r in rels | startNode(r).name + ' - ' + type(r) + '(' + coalesce(r.details, '') + ')' +  ' -> ' + endNode(r).name ], '\\n---\\n') AS info\n",
    "\"\"\"\n",
    ")"
   ]
  },
  {
   "cell_type": "code",
   "execution_count": null,
   "metadata": {},
   "outputs": [],
   "source": []
  }
 ],
 "metadata": {
  "kernelspec": {
   "display_name": "knowhiztutor",
   "language": "python",
   "name": "python3"
  },
  "language_info": {
   "codemirror_mode": {
    "name": "ipython",
    "version": 3
   },
   "file_extension": ".py",
   "mimetype": "text/x-python",
   "name": "python",
   "nbconvert_exporter": "python",
   "pygments_lexer": "ipython3",
   "version": "3.12.2"
  }
 },
 "nbformat": 4,
 "nbformat_minor": 2
}
