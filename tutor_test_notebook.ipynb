{
 "cells": [
  {
   "cell_type": "code",
   "execution_count": 8,
   "metadata": {},
   "outputs": [],
   "source": [
    "# ! pip install -U langchain-nomic langchain_community tiktoken langchainhub chromadb langchain langgraph tavily-python gpt4all fastembed langchain-groq "
   ]
  },
  {
   "cell_type": "code",
   "execution_count": 3,
   "metadata": {},
   "outputs": [
    {
     "name": "stderr",
     "output_type": "stream",
     "text": [
      "USER_AGENT environment variable not set, consider setting it to identify your requests.\n"
     ]
    }
   ],
   "source": [
    "import os\n",
    "import tempfile\n",
    "import base64\n",
    "import fitz\n",
    "import hashlib\n",
    "import tiktoken\n",
    "import io\n",
    "import json\n",
    "from pprint import pprint\n",
    "from langchain_community.vectorstores import FAISS\n",
    "from langchain_core.runnables import RunnablePassthrough\n",
    "from langchain.chains import RetrievalQA\n",
    "from langchain.prompts import PromptTemplate\n",
    "from langchain_core.prompts import ChatPromptTemplate\n",
    "from langchain.chains import create_retrieval_chain\n",
    "from langchain.chains.combine_documents import create_stuff_documents_chain\n",
    "from langchain_core.output_parsers import JsonOutputParser, StrOutputParser\n",
    "from langchain.output_parsers import OutputFixingParser\n",
    "from langchain_text_splitters import CharacterTextSplitter\n",
    "from langchain.text_splitter import RecursiveCharacterTextSplitter\n",
    "from langchain_community.document_loaders import PyPDFLoader, PyMuPDFLoader\n",
    "\n",
    "from langchain_community.document_loaders import WebBaseLoader\n",
    "from pipeline.api_handler import ApiHandler"
   ]
  },
  {
   "cell_type": "code",
   "execution_count": 16,
   "metadata": {},
   "outputs": [],
   "source": [
    "# Custom function to extract document objects from a given PDF file directory\n",
    "def extract_documents_from_file(file_dir):\n",
    "    loader = PyMuPDFLoader(file_dir)\n",
    "\n",
    "    # Load the document\n",
    "    documents = loader.load()\n",
    "    return documents\n",
    "\n",
    "def get_llm(llm_type, para):\n",
    "    para = para\n",
    "    api = ApiHandler(para)\n",
    "    llm_basic = api.models['basic']['instance']\n",
    "    llm_advance = api.models['advance']['instance']\n",
    "    llm_creative = api.models['creative']['instance']\n",
    "    if llm_type == 'basic':\n",
    "        return llm_basic\n",
    "    elif llm_type == 'advance':\n",
    "        return llm_advance\n",
    "    elif llm_type == 'creative':\n",
    "        return llm_creative\n",
    "    return llm_basic\n",
    "\n",
    "def get_embedding_models(embedding_model_type, para):\n",
    "    para = para\n",
    "    api = ApiHandler(para)\n",
    "    embedding_model_default = api.embedding_models['default']['instance']\n",
    "    if embedding_model_type == 'default':\n",
    "        return embedding_model_default\n",
    "    else:\n",
    "        return embedding_model_default\n",
    "    \n",
    "def get_db(_documents, embedding_folder, embedding_model):\n",
    "    \"\"\"\n",
    "    Create or load the embeddings for the specified documents.\n",
    "    \"\"\"\n",
    "    # Define the default filenames used by FAISS when saving\n",
    "    faiss_path = os.path.join(embedding_folder, \"index.faiss\")\n",
    "    pkl_path = os.path.join(embedding_folder, \"index.pkl\")\n",
    "\n",
    "    # Check if all necessary files exist to load the embeddings\n",
    "    if os.path.exists(faiss_path) and os.path.exists(pkl_path):\n",
    "        # Load existing embeddings\n",
    "        print(\"Loading existing embeddings...\")\n",
    "        db = FAISS.load_local(\n",
    "            embedding_folder, embedding_model, allow_dangerous_deserialization=True\n",
    "        )\n",
    "    else:\n",
    "        # Split the documents into chunks\n",
    "        print(\"Creating new embeddings...\")\n",
    "        # text_splitter = CharacterTextSplitter(chunk_size=512, chunk_overlap=0)\n",
    "        text_splitter = RecursiveCharacterTextSplitter(chunk_size=512, chunk_overlap=0)\n",
    "        texts = text_splitter.split_documents(_documents)\n",
    "        print(f\"length of document chunks generated for get_response_source:{len(texts)}\")\n",
    "\n",
    "        # Create the vector store to use as the index\n",
    "        db = FAISS.from_documents(texts, embedding_model)\n",
    "        # Save the embeddings to the specified folder\n",
    "        db.save_local(embedding_folder)\n",
    "    return db"
   ]
  },
  {
   "cell_type": "code",
   "execution_count": 17,
   "metadata": {},
   "outputs": [],
   "source": [
    "para = {\n",
    "    'llm_source': 'openai',  # or 'anthropic'\n",
    "    'temperature': 0,\n",
    "    \"creative_temperature\": 0.5,\n",
    "    \"openai_key_dir\": \".env\",\n",
    "    \"anthropic_key_dir\": \".env\",\n",
    "}\n",
    "llm = get_llm('basic', para)\n",
    "embed_model = get_embedding_models('default', para)"
   ]
  },
  {
   "cell_type": "code",
   "execution_count": null,
   "metadata": {},
   "outputs": [
    {
     "name": "stdout",
     "output_type": "stream",
     "text": [
      "len of documents :7\n",
      "length of document chunks generated :23\n",
      "Loading existing embeddings...\n"
     ]
    }
   ],
   "source": [
    "dir_path = os.getcwd()\n",
    "embedding_folder = os.path.join(dir_path, \"embedded_content\")\n",
    "inputs_folder = os.path.join(dir_path, \"input_files\")\n",
    "\n",
    "doc = extract_documents_from_file(inputs_folder + \"/test.pdf\")\n",
    "docs = [doc]\n",
    "docs_list = [item for sublist in docs for item in sublist]\n",
    "print(f\"len of documents :{len(docs_list)}\")\n",
    "\n",
    "# Compute a hashed ID based on the PDF content\n",
    "doc_content = b\"\".join([page.page_content.encode('utf-8') for page in docs_list])\n",
    "file_hash = hashlib.md5(doc_content).hexdigest()\n",
    "course_id = file_hash\n",
    "embedding_folder = os.path.join(embedding_folder, course_id)\n",
    "\n",
    "text_splitter = RecursiveCharacterTextSplitter.from_tiktoken_encoder(\n",
    "    chunk_size=512, chunk_overlap=0\n",
    ")\n",
    "doc_splits = text_splitter.split_documents(docs_list)\n",
    "print(f\"length of document chunks generated :{len(doc_splits)}\")\n",
    "\n",
    "vectorstore = get_db(docs_list, embedding_folder, embed_model)\n",
    "retriever = vectorstore.as_retriever(search_kwargs={\"k\":2})"
   ]
  }
 ],
 "metadata": {
  "kernelspec": {
   "display_name": "knowhiztutor",
   "language": "python",
   "name": "python3"
  },
  "language_info": {
   "codemirror_mode": {
    "name": "ipython",
    "version": 3
   },
   "file_extension": ".py",
   "mimetype": "text/x-python",
   "name": "python",
   "nbconvert_exporter": "python",
   "pygments_lexer": "ipython3",
   "version": "3.12.2"
  }
 },
 "nbformat": 4,
 "nbformat_minor": 2
}
